{
 "cells": [
  {
   "cell_type": "code",
   "execution_count": 63,
   "metadata": {},
   "outputs": [],
   "source": [
    "import graphviz as g\n",
    "import random\n",
    "import numpy as np"
   ]
  },
  {
   "cell_type": "code",
   "execution_count": 64,
   "metadata": {},
   "outputs": [],
   "source": [
    "zones = [\"Okara Droid Factory\",\n",
    "             \"Outpost Traken-4\",\n",
    "             \"Outpost Victory\",\n",
    "             \"Sobrik\",\n",
    "             \"High Security Section\",\n",
    "             \"Maximum Security Section\",\n",
    "             \"Minimum Security Section\",\n",
    "             \"The Tomb\",\n",
    "             \"Kaas City\",\n",
    "             \"Lord Grathan's Estate\",\n",
    "             \"Revanite Compound\",\n",
    "             \"Imperial Citadel\",\n",
    "             \"The Dark Temple\",\n",
    "             \"The Mandalorian Enclave\",\n",
    "             \"Icefall Plains\",\n",
    "             \"Star of Coruscant\",\n",
    "             \"Starship Graveyard\",\n",
    "             \"Tomb of Marka Ragnos\",\n",
    "             \"Tomb of Naga Sadow\",\n",
    "             \"Tomb of Tulak Hord\"]\n"
   ]
  },
  {
   "cell_type": "code",
   "execution_count": 65,
   "metadata": {},
   "outputs": [
    {
     "name": "stdout",
     "output_type": "stream",
     "text": [
      "{'Okara Droid Factory': {'Tomb of Naga Sadow', 'Imperial Citadel', 'Minimum Security Section'}, 'Outpost Traken-4': {'Kaas City', 'Tomb of Marka Ragnos', 'Tomb of Tulak Hord'}, 'Outpost Victory': {'The Dark Temple', 'Tomb of Tulak Hord', 'Outpost Traken-4'}, 'Sobrik': {'Okara Droid Factory', 'Tomb of Naga Sadow', 'The Mandalorian Enclave'}, 'High Security Section': {'Star of Coruscant', \"Lord Grathan's Estate\", 'Minimum Security Section'}, 'Maximum Security Section': {'Revanite Compound', 'Outpost Victory', 'Sobrik'}, 'Minimum Security Section': {'Okara Droid Factory', 'Icefall Plains', 'Tomb of Tulak Hord'}, 'The Tomb': {'The Dark Temple', 'Maximum Security Section', 'Revanite Compound'}, 'Kaas City': {'Okara Droid Factory', 'Maximum Security Section', 'Sobrik'}, \"Lord Grathan's Estate\": {'The Dark Temple', 'Starship Graveyard', 'Minimum Security Section'}, 'Revanite Compound': {'The Dark Temple', 'Okara Droid Factory', 'Tomb of Tulak Hord'}, 'Imperial Citadel': {'Okara Droid Factory', 'Outpost Victory', \"Lord Grathan's Estate\"}, 'The Dark Temple': {'Star of Coruscant', 'Kaas City', 'Tomb of Tulak Hord'}, 'The Mandalorian Enclave': {'The Dark Temple', \"Lord Grathan's Estate\", 'The Tomb'}, 'Icefall Plains': {'High Security Section', 'Imperial Citadel', 'Minimum Security Section'}, 'Star of Coruscant': {'Okara Droid Factory', 'The Dark Temple', \"Lord Grathan's Estate\"}, 'Starship Graveyard': {'The Tomb', 'The Mandalorian Enclave', 'Minimum Security Section'}, 'Tomb of Marka Ragnos': {'Revanite Compound', 'The Mandalorian Enclave', 'Tomb of Tulak Hord'}, 'Tomb of Naga Sadow': {'Okara Droid Factory', 'The Dark Temple', 'The Tomb'}, 'Tomb of Tulak Hord': {'The Dark Temple', 'Okara Droid Factory', 'High Security Section'}}\n"
     ]
    }
   ],
   "source": [
    "connections = {}\n",
    "for zone in zones:\n",
    "    connections[zone] = set()\n",
    "    while len(connections[zone]) != 3:\n",
    "        rand_zone = zones[random.randint(0, len(zones)-1)]\n",
    "        if rand_zone != zone:\n",
    "            connections[zone].add(rand_zone)\n",
    "print(connections)"
   ]
  },
  {
   "cell_type": "code",
   "execution_count": 66,
   "metadata": {},
   "outputs": [],
   "source": [
    "map = g.Digraph(comment='Game_Map')\n",
    "\n",
    "styles = {'location': {'shape': 'septagon', 'style': 'filled', 'fillcolor': '#00ff00'},\n",
    "          'boss_room': {'shape': 'star', 'style': 'filled', 'fillcolor': '#ffff00'}}\n",
    "\n",
    "with map.subgraph(name='locations', edge_attr={'style': 'solid', 'arrowhead': 'normal'},\n",
    "                  node_attr=styles['location']) as locats:\n",
    "    for zone_a in connections.keys():\n",
    "        for zone_b in connections[zone_a]:\n",
    "            locats.edge(zone_a, zone_b)\n",
    "    for i in range(0, 5):\n",
    "        locats.node(list(connections.keys())[random.randint(\n",
    "            0, len(list(connections.keys())))], shape=\"star\", style=\"filled\", fillcolor=\"#ffff00\")\n"
   ]
  },
  {
   "cell_type": "code",
   "execution_count": 67,
   "metadata": {},
   "outputs": [
    {
     "data": {
      "text/plain": [
       "'Game_Map.gv.pdf'"
      ]
     },
     "execution_count": 67,
     "metadata": {},
     "output_type": "execute_result"
    }
   ],
   "source": [
    "map.render('./Game_Map.gv', view = True)"
   ]
  }
 ],
 "metadata": {
  "interpreter": {
   "hash": "2a6df7c1242a863b1b3df8bdf205ec897e2232588b542a435a96001910508139"
  },
  "kernelspec": {
   "display_name": "Python 3.8.8 ('base')",
   "language": "python",
   "name": "python3"
  },
  "language_info": {
   "codemirror_mode": {
    "name": "ipython",
    "version": 3
   },
   "file_extension": ".py",
   "mimetype": "text/x-python",
   "name": "python",
   "nbconvert_exporter": "python",
   "pygments_lexer": "ipython3",
   "version": "3.8.8"
  },
  "orig_nbformat": 4
 },
 "nbformat": 4,
 "nbformat_minor": 2
}
