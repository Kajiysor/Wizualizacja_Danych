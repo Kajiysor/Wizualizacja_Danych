{
 "cells": [
  {
   "cell_type": "code",
   "execution_count": null,
   "id": "680a3ade",
   "metadata": {},
   "outputs": [],
   "source": [
    "!python3 -m pip install --upgrade pip\n",
    "!python3 -m pip install --upgrade graphviz\n",
    "!python3 -m pip install --upgrade numpy"
   ]
  },
  {
   "cell_type": "code",
   "execution_count": null,
   "id": "78f41bb4",
   "metadata": {},
   "outputs": [],
   "source": [
    "import graphviz as g\n",
    "import random\n",
    "import numpy as np"
   ]
  },
  {
   "cell_type": "code",
   "execution_count": null,
   "id": "fea18b4a",
   "metadata": {},
   "outputs": [],
   "source": [
    "locations = ['Burned Forest', 'Sleepy Village', 'Far Away Mountains', 'Liked Hills', 'Peaceful Lake', \n",
    "             'Singing Carrot Field', 'Castle of Future', 'Mean Swamps', 'Not Like This Coast', 'Doge Meadow', \n",
    "            'Rainy Desert', 'Harsh Valley', 'Silent Cave', 'Coald Mine']\n",
    "characters = ['Sam Simph', 'Terry Herry', 'Tom Curse', 'Justin Barber', 'Andrew Bagpipes', 'Snoop Catt', \n",
    "             'Ryanuu Knees', 'Tim Bark', 'Ash Lee Cool', 'Pi Tone', 'Grey Player', 'Matthew Boring',\n",
    "             'Donut Trumpet', 'Me Cheese Saw\\n No Sure', 'Star Roast']\n",
    "items = ['Sharp Knife', 'Shiny Hat', 'Stylish Coat', 'Stats Potion', 'Boots of Speed', 'Lost Chapter',\n",
    "        'Cheesy Teddy Bear', 'Sweet Honey', 'Colorful Umbrella', 'Destroyed Map', 'Precious Pearl', \n",
    "         'Canadian Candy', 'Inimitable Moonstone', 'Worn Saw', 'Fresh Fish', 'Old Portrait', \n",
    "         'Atypical Ivories']"
   ]
  },
  {
   "cell_type": "code",
   "execution_count": null,
   "id": "4d137e64",
   "metadata": {},
   "outputs": [],
   "source": [
    "for c in range (len(characters)):\n",
    "    quests = random.randint(0,3)\n",
    "    if quests == 0:\n",
    "        characters[c] = characters[c] + '\\n\\nNo Quests '\n",
    "    else:\n",
    "        characters[c] = characters[c] + '\\n\\nQuests ' + str(quests)\n",
    "\n",
    "for i in range (len(items)):\n",
    "    case = random.randint(0,2)\n",
    "    if case == 0:\n",
    "        items[i] += '\\n\\nCollectible'\n",
    "    elif case == 1:\n",
    "        items[i] = items[i] + '\\n\\nAtk '+ str(random.randint(-100,100)) + ' Def ' + str(random.randint(-100,100))\n",
    "    else:\n",
    "        case2 = random.randint(0,1)\n",
    "        if case:\n",
    "            items[i] = items[i] + '\\n\\nAtk '+ str(random.randint(-100,100))\n",
    "        else:\n",
    "            items[i] = items[i] + '\\n\\nDef '+ str(random.randint(-100,100))\n",
    "    "
   ]
  },
  {
   "cell_type": "code",
   "execution_count": null,
   "id": "afd06aaf",
   "metadata": {},
   "outputs": [],
   "source": [
    "locations_connected = {}\n",
    "for loc in locations:\n",
    "    locations_connected[loc] = set()\n",
    "    while len(locations_connected[loc]) != 2:\n",
    "        locat = locations[random.randint(0, len(locations)-1)]\n",
    "        if locat != loc:\n",
    "            locations_connected[loc].add(locat)\n",
    "print(locations_connected)"
   ]
  },
  {
   "cell_type": "code",
   "execution_count": null,
   "id": "b76784b7",
   "metadata": {},
   "outputs": [],
   "source": [
    "characters_location = {}\n",
    "char = np.zeros(len(characters), dtype=bool)\n",
    "for loc in locations:\n",
    "    rand = random.randint(0, len(characters)-1)\n",
    "    while char[rand] == True: \n",
    "        rand = random.randint(0, len(characters)-1)\n",
    "    characters_location[loc] = characters[rand]\n",
    "    char[rand] = True\n",
    "print(characters_location)"
   ]
  },
  {
   "cell_type": "code",
   "execution_count": null,
   "id": "74545872",
   "metadata": {},
   "outputs": [],
   "source": [
    "items_location = {}\n",
    "it = np.zeros(len(items), dtype=bool)\n",
    "for loc in locations:\n",
    "    rand = random.randint(0, len(items)-1)\n",
    "    while it[rand] == True: \n",
    "        rand = random.randint(0, len(items)-1)\n",
    "    items_location[loc] = items[rand]\n",
    "    it[rand] = True\n",
    "print(items_location)"
   ]
  },
  {
   "cell_type": "code",
   "execution_count": null,
   "id": "adcdf96a",
   "metadata": {},
   "outputs": [],
   "source": [
    "Player = \"Main\\n Character\"\n",
    "Starting_loc = locations[random.randint(0, len(locations) - 1)]"
   ]
  },
  {
   "cell_type": "code",
   "execution_count": null,
   "id": "3246e090",
   "metadata": {},
   "outputs": [],
   "source": [
    "dot = g.Digraph(comment='Game World', graph_attr={'splines': 'ortho'})\n",
    "dot.node(Player, shape = 'star', style = 'filled', fillcolor = '#d16d77')\n",
    "dot.node(Starting_loc, style = 'filled', fillcolor = '#589621', shape = 'house')\n",
    "dot.edge(Player, Starting_loc)\n",
    "with dot.subgraph(name='locations', edge_attr = {'style' : 'solid', 'arrowhead' : 'normal'}, \n",
    "                  node_attr={'shape': 'house','style' : 'filled', 'fillcolor': '#7de622'}) as locats:\n",
    "    for a in locations_connected.keys():\n",
    "        for b in locations_connected[a]:\n",
    "            locats.edge(a, b)\n",
    "            \n",
    "with dot.subgraph(name='NPCs', edge_attr = {'style' : 'solid'}, \n",
    "                  node_attr={'shape': 'circle','style' : 'filled', 'fillcolor': '#78cdff'}) as chars:\n",
    "    for a in characters_location.keys():\n",
    "            chars.edge(characters_location[a], a)\n",
    "            \n",
    "with dot.subgraph(name='Items', edge_attr = {'style' : 'solid'}, \n",
    "                  node_attr={'shape': 'Mdiamond','style' : 'filled', 'fillcolor': '#f0fa66'}) as its:\n",
    "    for a in items_location.keys():\n",
    "            its.edge(items_location[a], a)\n",
    "            \n",
    "\n",
    "print(dot.source)\n",
    "dot.render('./Game_Chart.gv', view = True)"
   ]
  },
  {
   "cell_type": "code",
   "execution_count": null,
   "id": "80a8362e",
   "metadata": {},
   "outputs": [],
   "source": []
  }
 ],
 "metadata": {
  "kernelspec": {
   "display_name": "Python 3 (ipykernel)",
   "language": "python",
   "name": "python3"
  },
  "language_info": {
   "codemirror_mode": {
    "name": "ipython",
    "version": 3
   },
   "file_extension": ".py",
   "mimetype": "text/x-python",
   "name": "python",
   "nbconvert_exporter": "python",
   "pygments_lexer": "ipython3",
   "version": "3.8.10"
  }
 },
 "nbformat": 4,
 "nbformat_minor": 5
}
